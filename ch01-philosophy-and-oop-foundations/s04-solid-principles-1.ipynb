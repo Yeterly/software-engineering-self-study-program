{
 "cells": [
  {
   "cell_type": "markdown",
   "id": "19ca119f",
   "metadata": {},
   "source": [
    "# SOLID Principles I"
   ]
  },
  {
   "cell_type": "markdown",
   "id": "b736a2b6",
   "metadata": {},
   "source": [
    "## Single Responsibility Principle (SRP)"
   ]
  },
  {
   "cell_type": "markdown",
   "id": "3c40da11",
   "metadata": {},
   "source": [
    "The **Single Responsibility Principle** states that a class should have **only one reason to change**. This means a class should only have one job or responsibility. If a class handles multiple, unrelated tasks, a change in one task could inadvertently break the others.\n",
    "\n",
    "By following SRP, your code becomes easier to understand, maintain, and test because each class is focused on a specific, well-defined purpose.\n",
    "\n",
    "### Bad Example: Violating SRP\n",
    "\n",
    "Consider a class that handles both creating a report and saving that report to a file. This class has two distinct responsibilities: content generation and data persistence."
   ]
  },
  {
   "cell_type": "markdown",
   "id": "8c6d972a",
   "metadata": {},
   "source": [
    "```python\n",
    "# BAD: This class has two responsibilities.\n",
    "# 1. Generating report content.\n",
    "# 2. Saving the report to a file.\n",
    "\n",
    "class Report:\n",
    "    def __init__(self, title, content):\n",
    "        self.title = title\n",
    "        self.content = content\n",
    "\n",
    "    def generate_report(self):\n",
    "        \"\"\"Generates the report's string format.\"\"\"\n",
    "        return f\"Report Title: {self.title}\\n\\n{self.content}\"\n",
    "\n",
    "    def save_to_file(self, filename):\n",
    "        \"\"\"Saves the report to a file.\"\"\"\n",
    "        # This part handles file I/O, which is a separate concern.\n",
    "        # A change in file saving logic (e.g., changing format to JSON,\n",
    "        # saving to a database) would force this class to change.\n",
    "        report_str = self.generate_report()\n",
    "        with open(filename, 'w') as f:\n",
    "            f.write(report_str)\n",
    "\n",
    "# Usage\n",
    "my_report = Report(\"Quarterly Sales\", \"Sales are up by 15%!\")\n",
    "my_report.save_to_file(\"sales_report.txt\")\n",
    "```"
   ]
  },
  {
   "cell_type": "markdown",
   "id": "2d45b4ff",
   "metadata": {},
   "source": [
    "The problem here is that the `Report` class knows about both report formatting and the file system. If we later decide to save reports to a database or send them over a network, we would have to modify this class, even though the report generation logic hasn't changed."
   ]
  },
  {
   "cell_type": "markdown",
   "id": "70fbc642",
   "metadata": {},
   "source": [
    "### Good Example: Following SRP\n",
    "\n",
    "To fix this, we can split the responsibilities into two separate classes. One class will handle report generation, and the other will handle persistence."
   ]
  },
  {
   "cell_type": "markdown",
   "id": "96799c4c",
   "metadata": {},
   "source": [
    "```python\n",
    "# GOOD: Each class has a single, well-defined responsibility.\n",
    "\n",
    "class Report:\n",
    "    \"\"\"Handles creating the report content.\"\"\"\n",
    "    def __init__(self, title, content):\n",
    "        self.title = title\n",
    "        self.content = content\n",
    "\n",
    "    def generate(self):\n",
    "        \"\"\"Generates the report's string format.\"\"\"\n",
    "        return f\"Report Title: {self.title}\\n\\n{self.content}\"\n",
    "\n",
    "class FileManager:\n",
    "    \"\"\"Handles saving data to a file.\"\"\"\n",
    "    @staticmethod\n",
    "    def save(data, filename):\n",
    "        \"\"\"Saves data to a specified file.\"\"\"\n",
    "        with open(filename, 'w') as f:\n",
    "            f.write(data)\n",
    "\n",
    "# Usage\n",
    "# Now the responsibilities are cleanly separated.\n",
    "sales_report = Report(\"Quarterly Sales\", \"Sales are up by 15%!\")\n",
    "report_content = sales_report.generate()\n",
    "\n",
    "# The FileManager can be used to save any kind of data, not just reports.\n",
    "FileManager.save(report_content, \"sales_report.txt\")\n",
    "```\n"
   ]
  },
  {
   "cell_type": "markdown",
   "id": "5696edf3",
   "metadata": {},
   "source": [
    "Now, the `Report` class is only responsible for creating report content. The `FileManager` is only responsible for saving data. If we need to change how files are saved, we only modify `FileManager`, leaving `Report` untouched."
   ]
  },
  {
   "cell_type": "markdown",
   "id": "babe3d7f",
   "metadata": {},
   "source": [
    "## Open/Closed Principle (OCP)\n"
   ]
  },
  {
   "cell_type": "markdown",
   "id": "cc9c7eac",
   "metadata": {},
   "source": [
    "The **Open/Closed Principle** states that software entities (classes, modules, functions) should be **open for extension, but closed for modification**. This means you should be able to add new functionality without changing existing, tested code.\n",
    "\n",
    "This is usually achieved using abstractions, like interfaces or abstract base classes. You rely on these abstractions in your existing code and create new concrete classes to implement new features. This minimizes the risk of introducing bugs into the existing codebase."
   ]
  },
  {
   "cell_type": "markdown",
   "id": "ef125d44",
   "metadata": {},
   "source": [
    "### Bad Example: Violating OCP\n",
    "\n",
    "Imagine a class that calculates discounts for different types of customers. A common but poor implementation uses a series of `if/elif` statements."
   ]
  },
  {
   "cell_type": "markdown",
   "id": "f0410c44",
   "metadata": {},
   "source": [
    "```python\n",
    "# BAD: This class must be modified every time a new customer type is added.\n",
    "\n",
    "class DiscountCalculator:\n",
    "    def calculate(self, customer_type, price):\n",
    "        \"\"\"Calculates the discount based on customer type.\"\"\"\n",
    "        discount = 0\n",
    "        if customer_type == 'regular':\n",
    "            discount = price * 0.1  # 10% discount\n",
    "        elif customer_type == 'vip':\n",
    "            discount = price * 0.2  # 20% discount\n",
    "        # What if we add a 'gold' customer type? We MUST modify this method!\n",
    "        # This makes the class brittle and hard to maintain.\n",
    "        return price - discount\n",
    "\n",
    "# Usage\n",
    "calculator = DiscountCalculator()\n",
    "final_price_regular = calculator.calculate('regular', 100)\n",
    "final_price_vip = calculator.calculate('vip', 100)\n",
    "\n",
    "print(f\"Regular Customer Price: ${final_price_regular}\") # $90.0\n",
    "print(f\"VIP Customer Price: ${final_price_vip}\")       # $80.0\n",
    "```"
   ]
  },
  {
   "cell_type": "markdown",
   "id": "d91dd9f7",
   "metadata": {},
   "source": [
    "The problem is that every time a new customer discount type is introduced (e.g., 'gold', 'platinum'), we have to go back and **modify** the `calculate` method by adding another `elif` block. This violates the \"closed for modification\" rule."
   ]
  },
  {
   "cell_type": "markdown",
   "id": "2f486eb9",
   "metadata": {},
   "source": [
    "### Good Example: Following OCP\n",
    "\n",
    "A better approach is to use a strategy pattern with an abstract base class. The main calculator will work with an abstraction, and we can add new discount types by creating new classes that implement this abstraction."
   ]
  },
  {
   "cell_type": "markdown",
   "id": "e2656ef4",
   "metadata": {},
   "source": [
    "```python\n",
    "# GOOD: Open for extension (new strategies), closed for modification (calculator).\n",
    "\n",
    "from abc import ABC, abstractmethod\n",
    "\n",
    "class DiscountStrategy(ABC):\n",
    "    \"\"\"Abstract base class for all discount strategies.\"\"\"\n",
    "    @abstractmethod\n",
    "    def apply_discount(self, price):\n",
    "        pass\n",
    "\n",
    "# --- Concrete Implementations (Extensions) ---\n",
    "class RegularCustomerDiscount(DiscountStrategy):\n",
    "    \"\"\"10% discount for regular customers.\"\"\"\n",
    "    def apply_discount(self, price):\n",
    "        return price * 0.9\n",
    "\n",
    "class VIPCustomerDiscount(DiscountStrategy):\n",
    "    \"\"\"20% discount for VIP customers.\"\"\"\n",
    "    def apply_discount(self, price):\n",
    "        return price * 0.8\n",
    "\n",
    "# We can easily add a new discount type without touching existing code.\n",
    "class GoldCustomerDiscount(DiscountStrategy):\n",
    "    \"\"\"30% discount for Gold customers.\"\"\"\n",
    "    def apply_discount(self, price):\n",
    "        return price * 0.7\n",
    "\n",
    "# --- The Class Closed for Modification ---\n",
    "class DiscountCalculator:\n",
    "    def calculate(self, strategy: DiscountStrategy, price):\n",
    "        \"\"\"Calculates the final price using a given strategy.\"\"\"\n",
    "        return strategy.apply_discount(price)\n",
    "\n",
    "# Usage\n",
    "calculator = DiscountCalculator()\n",
    "price = 100\n",
    "\n",
    "# Calculate for different customer types by passing different strategy objects.\n",
    "final_price_regular = calculator.calculate(RegularCustomerDiscount(), price)\n",
    "final_price_vip = calculator.calculate(VIPCustomerDiscount(), price)\n",
    "final_price_gold = calculator.calculate(GoldCustomerDiscount(), price) # Newly added!\n",
    "\n",
    "print(f\"Regular Customer Price: ${final_price_regular}\") # $90.0\n",
    "print(f\"VIP Customer Price: ${final_price_vip}\")       # $80.0\n",
    "print(f\"Gold Customer Price: ${final_price_gold}\")       # $70.0\n",
    "```"
   ]
  },
  {
   "cell_type": "markdown",
   "id": "a250ffef",
   "metadata": {},
   "source": [
    "Here, the `DiscountCalculator` is **closed for modification**. Its `calculate` method will never need to change. However, the system is **open for extension**. We can introduce as many new discount strategies as we want simply by creating new classes that inherit from `DiscountStrategy`. This is a much more robust and scalable design."
   ]
  },
  {
   "cell_type": "markdown",
   "id": "d921b391",
   "metadata": {},
   "source": []
  }
 ],
 "metadata": {
  "language_info": {
   "name": "python"
  }
 },
 "nbformat": 4,
 "nbformat_minor": 5
}
