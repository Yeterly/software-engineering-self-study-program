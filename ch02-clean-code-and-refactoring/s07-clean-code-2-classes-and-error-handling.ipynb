{
 "cells": [
  {
   "cell_type": "markdown",
   "id": "cffe469c",
   "metadata": {},
   "source": [
    "# Clean Code II - Classes & Error Handling"
   ]
  },
  {
   "cell_type": "markdown",
   "id": "23859295",
   "metadata": {},
   "source": [
    "## Comments"
   ]
  },
  {
   "cell_type": "markdown",
   "id": "df29ef25",
   "metadata": {},
   "source": [
    "#### Explain \"Why,\" Not \"What.\"\n",
    "\n",
    "Your code already tells you _what_ it does. Good comments explain the **reasoning** behind a decision or a complex piece of logic.\n",
    "\n",
    "- **Bad Example (explains what):**\n",
    "\n",
    "```python\n",
    "# The list of users is sorted by their last login time in descending order.\n",
    "users.sort(key=lambda user: user.last_login, reverse=True)\n",
    "```\n",
    "\n",
    "Why this is bad: The code is already clear. The comment is redundant and will become outdated if the sorting logic changes.\n",
    "\n",
    "- **Good Example (explains why):**\n",
    "\n",
    "```python\n",
    "# Sort users by last login to prioritize the most recently active ones for the dashboard display,\n",
    "# as per the new UX design.\n",
    "users.sort(key=lambda user: user.last_login, reverse=True)\n",
    "```\n",
    "\n",
    "Why this is good: This comment explains the business context and a specific requirement. It gives the reader valuable information they can't get just by looking at the code."
   ]
  },
  {
   "cell_type": "markdown",
   "id": "42f44a63",
   "metadata": {},
   "source": [
    "### Clarify Complex or Counter-Intuitive Logic\n",
    "\n",
    "If you're using a clever trick or a non-obvious algorithm, a comment can prevent a future developer from \"fixing\" it and breaking the code.\n",
    "\n",
    "- **Bad Example (no comment on a tricky calculation):**\n",
    "\n",
    "```python\n",
    "def calculate_discounted_price(price):\n",
    "    # What does this formula mean?\n",
    "    return price - (price // 100 * 10)\n",
    "```\n",
    "\n",
    "- **Good Example (clarifies the logic):**\n",
    "\n",
    "```python\n",
    "def calculate_discounted_price(price):\n",
    "    # We apply a 10% discount for every full $100 in the price.\n",
    "    # The integer division (//) is intentional to ignore remainders.\n",
    "    return price - (price // 100 * 10)\n",
    "```\n",
    "\n",
    "Why this is good: The comment explains the specific business rule and the reason for the seemingly strange operator."
   ]
  },
  {
   "cell_type": "markdown",
   "id": "1a373613",
   "metadata": {},
   "source": [
    "### Use Docstrings for Public APIs\n",
    "\n",
    "In Python, **docstrings** are a special type of comment that describe the purpose of functions, classes, and modules. They are for the **user** of the code, not for a specific line of code.\n",
    "\n",
    "- **Bad Example (using a regular comment for a function):**\n",
    "\n",
    "```python\n",
    "# Calculates the area of a circle.\n",
    "# radius (float): The radius of the circle.\n",
    "def calculate_circle_area(radius):\n",
    "    return 3.14159 * radius**2\n",
    "```\n",
    "\n",
    "Why this is bad: This is not how you properly document Python code. The information is not accessible via standard tooling (like `help()`).\n",
    "\n",
    "- **Good Example (using a docstring):**\n",
    "\n",
    "```python\n",
    "def calculate_circle_area(radius):\n",
    "    \"\"\"\n",
    "    Calculates the area of a circle.\n",
    "\n",
    "    Args:\n",
    "        radius (float): The radius of the circle.\n",
    "\n",
    "    Returns:\n",
    "        float: The calculated area.\n",
    "    \"\"\"\n",
    "    return 3.14159 * radius**2\n",
    "```\n",
    "\n",
    "Why this is good: This is the Python standard. The docstring provides clear, structured information that can be read by other tools and IDEs."
   ]
  },
  {
   "cell_type": "markdown",
   "id": "2683c4b3",
   "metadata": {},
   "source": [
    "### Avoid Redundant Comments\n",
    "\n",
    "These comments simply repeat what the code is already doing. They clutter the codebase and provide no value.\n",
    "\n",
    "- **Bad Example:**\n",
    "\n",
    "```python\n",
    "x = 10\n",
    "# The variable x is assigned the value 10.\n",
    "```\n"
   ]
  },
  {
   "cell_type": "markdown",
   "id": "ffbd787d",
   "metadata": {},
   "source": [
    "### Don't Comment Bad Code, Refactor It Instead\n",
    "\n",
    "If your code is messy or hard to understand, don't just add a comment to explain the mess. Refactor the code into smaller, more readable chunks with descriptive names.\n",
    "\n",
    "- **Bad Example (trying to explain messy code):**\n",
    "\n",
    "```python\n",
    "# Loop through the list, find the customer, and then update their status\n",
    "# to 'active' if they meet the criteria of having an account and a recent purchase.\n",
    "for c in customers:\n",
    "    if c.account_status == 'pending' and c.purchase_history:\n",
    "        c.account_status = 'active'\n",
    "```\n",
    "\n",
    "- **Good Example (refactored for clarity):**\n",
    "\n",
    "```python\n",
    "def activate_eligible_customers(customers):\n",
    "    for customer in customers:\n",
    "        if is_eligible_for_activation(customer):\n",
    "            customer.activate()\n",
    "\n",
    "def is_eligible_for_activation(customer):\n",
    "    return customer.has_pending_account() and customer.has_recent_purchase()\n",
    "```\n",
    "\n",
    "The good example uses clear function and variable names, making the code's intent obvious without any need for comments. This is the ultimate goal of clean code."
   ]
  },
  {
   "cell_type": "markdown",
   "id": "a8cbcf81",
   "metadata": {},
   "source": []
  }
 ],
 "metadata": {
  "language_info": {
   "name": "python"
  }
 },
 "nbformat": 4,
 "nbformat_minor": 5
}
